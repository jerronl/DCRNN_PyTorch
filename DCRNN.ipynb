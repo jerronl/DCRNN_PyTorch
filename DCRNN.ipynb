{
  "nbformat": 4,
  "nbformat_minor": 0,
  "metadata": {
    "colab": {
      "provenance": [],
      "gpuType": "T4"
    },
    "kernelspec": {
      "name": "python3",
      "display_name": "Python 3"
    },
    "language_info": {
      "name": "python"
    },
    "accelerator": "GPU"
  },
  "cells": [
    {
      "cell_type": "code",
      "execution_count": 1,
      "metadata": {
        "colab": {
          "base_uri": "https://localhost:8080/"
        },
        "id": "JaXYxzifbhst",
        "outputId": "d3273cb1-eec1-47e2-fe15-0de3159a0104"
      },
      "outputs": [
        {
          "output_type": "stream",
          "name": "stdout",
          "text": [
            "Mounted at /content/drive\n",
            "/content/drive/.shortcut-targets-by-id/1y-ycbC7pCG3YRTPGQLNlg5hUbn0wSz28/volrt/git/DCRNN_PyTorch\n",
            "M\tdata/model/dcrnn_la.yaml\n",
            "M\tdata/sensor_graph/adj_mx.pkl\n",
            "Your branch is up to date with 'origin/pytorch_scratch'.\n"
          ]
        }
      ],
      "source": [
        "# \"\"\"\n",
        "from google.colab import drive\n",
        "drive.mount('/content/drive')\n",
        "mydrive='/content/drive/MyDrive/volrt/'\n",
        "source_path=mydrive+\"git/DCRNN_PyTorch\"\n",
        "import os,sys\n",
        "if not os.path.exists(source_path):\n",
        "  %cd $mydrive/git\n",
        "  !git clone https://github.com/jerronl/DCRNN_PyTorch.git\n",
        "  %cd $source_path\n",
        "else:\n",
        "  %cd $source_path\n",
        "  !git checkout\n",
        "\n",
        "sys.path.append( source_path)\n",
        "# \"\"\"\n",
        "\n",
        "import argparse\n",
        "import numpy as np\n",
        "import yaml\n",
        "\n",
        "from lib.utils import load_graph_data\n",
        "from model.pytorch.dcrnn_supervisor import DCRNNSupervisor\n"
      ]
    },
    {
      "cell_type": "code",
      "execution_count": null,
      "metadata": {
        "colab": {
          "base_uri": "https://localhost:8080/"
        },
        "id": "YeTQzMtGy8Ih",
        "outputId": "2ef3160d-568e-4a47-90f1-419a202d7753"
      },
      "outputs": [
        {
          "metadata": {
            "tags": null
          },
          "name": "stdout",
          "output_type": "stream",
          "text": [
            "2024-02-05 21:31:53,528 - INFO - Log directory: data/model/dcrnn_DR_2_h_12_64-64_lr_0.01_bs_64_0205213153/\n"
          ]
        },
        {
          "metadata": {
            "tags": null
          },
          "name": "stderr",
          "output_type": "stream",
          "text": [
            "INFO:model.pytorch.dcrnn_supervisor:Log directory: data/model/dcrnn_DR_2_h_12_64-64_lr_0.01_bs_64_0205213153/\n"
          ]
        },
        {
          "metadata": {
            "tags": null
          },
          "name": "stdout",
          "output_type": "stream",
          "text": [
            "2024-02-05 21:32:12,986 - INFO - Model created\n"
          ]
        },
        {
          "metadata": {
            "tags": null
          },
          "name": "stderr",
          "output_type": "stream",
          "text": [
            "INFO:model.pytorch.dcrnn_supervisor:Model created\n"
          ]
        },
        {
          "metadata": {
            "tags": null
          },
          "name": "stdout",
          "output_type": "stream",
          "text": [
            "2024-02-05 21:32:14,654 - INFO - Loaded model at 14\n"
          ]
        },
        {
          "metadata": {
            "tags": null
          },
          "name": "stderr",
          "output_type": "stream",
          "text": [
            "INFO:model.pytorch.dcrnn_supervisor:Loaded model at 14\n"
          ]
        },
        {
          "metadata": {
            "tags": null
          },
          "name": "stdout",
          "output_type": "stream",
          "text": [
            "2024-02-05 21:32:15,652 - INFO - Start training ...\n"
          ]
        },
        {
          "metadata": {
            "tags": null
          },
          "name": "stderr",
          "output_type": "stream",
          "text": [
            "INFO:model.pytorch.dcrnn_supervisor:Start training ...\n"
          ]
        },
        {
          "metadata": {
            "tags": null
          },
          "name": "stdout",
          "output_type": "stream",
          "text": [
            "2024-02-05 21:32:15,657 - INFO - num_batches:375\n"
          ]
        },
        {
          "metadata": {
            "tags": null
          },
          "name": "stderr",
          "output_type": "stream",
          "text": [
            "INFO:model.pytorch.dcrnn_supervisor:num_batches:375\n"
          ]
        },
        {
          "metadata": {
            "tags": null
          },
          "name": "stdout",
          "output_type": "stream",
          "text": [
            "2024-02-05 21:41:01,469 - INFO - epoch complete\n"
          ]
        },
        {
          "metadata": {
            "tags": null
          },
          "name": "stderr",
          "output_type": "stream",
          "text": [
            "INFO:model.pytorch.dcrnn_supervisor:epoch complete\n"
          ]
        },
        {
          "metadata": {
            "tags": null
          },
          "name": "stdout",
          "output_type": "stream",
          "text": [
            "2024-02-05 21:41:01,474 - INFO - evaluating now!\n"
          ]
        },
        {
          "metadata": {
            "tags": null
          },
          "name": "stderr",
          "output_type": "stream",
          "text": [
            "INFO:model.pytorch.dcrnn_supervisor:evaluating now!\n"
          ]
        },
        {
          "metadata": {
            "tags": null
          },
          "name": "stdout",
          "output_type": "stream",
          "text": [
            "2024-02-05 21:41:43,646 - INFO - Epoch [14/100] (5625) train_mae: 2.0658, val_mae: 2.8995, lr: 0.010000, 568.0s\n"
          ]
        },
        {
          "metadata": {
            "tags": null
          },
          "name": "stderr",
          "output_type": "stream",
          "text": [
            "/usr/local/lib/python3.10/dist-packages/torch/optim/lr_scheduler.py:432: UserWarning: To get the last learning rate computed by the scheduler, please use `get_last_lr()`.\n",
            "  warnings.warn(\"To get the last learning rate computed by the scheduler, \"\n",
            "INFO:model.pytorch.dcrnn_supervisor:Epoch [14/100] (5625) train_mae: 2.0658, val_mae: 2.8995, lr: 0.010000, 568.0s\n"
          ]
        },
        {
          "metadata": {
            "tags": null
          },
          "name": "stdout",
          "output_type": "stream",
          "text": [
            "2024-02-05 21:41:43,680 - INFO - Saved model at 14\n"
          ]
        },
        {
          "metadata": {
            "tags": null
          },
          "name": "stderr",
          "output_type": "stream",
          "text": [
            "INFO:model.pytorch.dcrnn_supervisor:Saved model at 14\n"
          ]
        },
        {
          "metadata": {
            "tags": null
          },
          "name": "stdout",
          "output_type": "stream",
          "text": [
            "2024-02-05 21:41:43,689 - INFO - Val loss decrease from inf to 2.8995, saving to models/epo14.tar\n"
          ]
        },
        {
          "metadata": {
            "tags": null
          },
          "name": "stderr",
          "output_type": "stream",
          "text": [
            "INFO:model.pytorch.dcrnn_supervisor:Val loss decrease from inf to 2.8995, saving to models/epo14.tar\n"
          ]
        },
        {
          "metadata": {
            "tags": null
          },
          "name": "stdout",
          "output_type": "stream",
          "text": [
            "2024-02-05 21:50:29,805 - INFO - epoch complete\n"
          ]
        },
        {
          "metadata": {
            "tags": null
          },
          "name": "stderr",
          "output_type": "stream",
          "text": [
            "INFO:model.pytorch.dcrnn_supervisor:epoch complete\n"
          ]
        },
        {
          "metadata": {
            "tags": null
          },
          "name": "stdout",
          "output_type": "stream",
          "text": [
            "2024-02-05 21:50:29,810 - INFO - evaluating now!\n"
          ]
        },
        {
          "metadata": {
            "tags": null
          },
          "name": "stderr",
          "output_type": "stream",
          "text": [
            "INFO:model.pytorch.dcrnn_supervisor:evaluating now!\n"
          ]
        },
        {
          "metadata": {
            "tags": null
          },
          "name": "stdout",
          "output_type": "stream",
          "text": [
            "2024-02-05 21:51:11,943 - INFO - Epoch [15/100] (6000) train_mae: 2.0435, val_mae: 2.9994, lr: 0.010000, 568.2s\n"
          ]
        },
        {
          "metadata": {
            "tags": null
          },
          "name": "stderr",
          "output_type": "stream",
          "text": [
            "INFO:model.pytorch.dcrnn_supervisor:Epoch [15/100] (6000) train_mae: 2.0435, val_mae: 2.9994, lr: 0.010000, 568.2s\n"
          ]
        },
        {
          "metadata": {
            "tags": null
          },
          "name": "stdout",
          "output_type": "stream",
          "text": [
            "2024-02-05 21:59:57,568 - INFO - epoch complete\n"
          ]
        },
        {
          "metadata": {
            "tags": null
          },
          "name": "stderr",
          "output_type": "stream",
          "text": [
            "INFO:model.pytorch.dcrnn_supervisor:epoch complete\n"
          ]
        },
        {
          "metadata": {
            "tags": null
          },
          "name": "stdout",
          "output_type": "stream",
          "text": [
            "2024-02-05 21:59:57,574 - INFO - evaluating now!\n"
          ]
        },
        {
          "metadata": {
            "tags": null
          },
          "name": "stderr",
          "output_type": "stream",
          "text": [
            "INFO:model.pytorch.dcrnn_supervisor:evaluating now!\n"
          ]
        },
        {
          "output_type": "stream",
          "name": "stdout",
          "text": [
            "2024-02-05 22:00:39,632 - INFO - Epoch [16/100] (6375) train_mae: 2.0397, val_mae: 2.9416, lr: 0.010000, 567.7s\n"
          ]
        },
        {
          "output_type": "stream",
          "name": "stderr",
          "text": [
            "INFO:model.pytorch.dcrnn_supervisor:Epoch [16/100] (6375) train_mae: 2.0397, val_mae: 2.9416, lr: 0.010000, 567.7s\n"
          ]
        },
        {
          "output_type": "stream",
          "name": "stdout",
          "text": [
            "2024-02-05 22:09:23,720 - INFO - epoch complete\n"
          ]
        },
        {
          "output_type": "stream",
          "name": "stderr",
          "text": [
            "INFO:model.pytorch.dcrnn_supervisor:epoch complete\n"
          ]
        },
        {
          "output_type": "stream",
          "name": "stdout",
          "text": [
            "2024-02-05 22:09:23,728 - INFO - evaluating now!\n"
          ]
        },
        {
          "output_type": "stream",
          "name": "stderr",
          "text": [
            "INFO:model.pytorch.dcrnn_supervisor:evaluating now!\n"
          ]
        },
        {
          "output_type": "stream",
          "name": "stdout",
          "text": [
            "2024-02-05 22:10:05,727 - INFO - Epoch [17/100] (6750) train_mae: 2.0338, val_mae: 2.9229, lr: 0.010000, 566.1s\n"
          ]
        },
        {
          "output_type": "stream",
          "name": "stderr",
          "text": [
            "INFO:model.pytorch.dcrnn_supervisor:Epoch [17/100] (6750) train_mae: 2.0338, val_mae: 2.9229, lr: 0.010000, 566.1s\n"
          ]
        },
        {
          "output_type": "stream",
          "name": "stdout",
          "text": [
            "2024-02-05 22:18:50,113 - INFO - epoch complete\n"
          ]
        },
        {
          "output_type": "stream",
          "name": "stderr",
          "text": [
            "INFO:model.pytorch.dcrnn_supervisor:epoch complete\n"
          ]
        },
        {
          "output_type": "stream",
          "name": "stdout",
          "text": [
            "2024-02-05 22:18:50,118 - INFO - evaluating now!\n"
          ]
        },
        {
          "output_type": "stream",
          "name": "stderr",
          "text": [
            "INFO:model.pytorch.dcrnn_supervisor:evaluating now!\n"
          ]
        },
        {
          "output_type": "stream",
          "name": "stdout",
          "text": [
            "2024-02-05 22:19:32,054 - INFO - Epoch [18/100] (7125) train_mae: 2.0289, val_mae: 2.9027, lr: 0.010000, 566.3s\n"
          ]
        },
        {
          "output_type": "stream",
          "name": "stderr",
          "text": [
            "INFO:model.pytorch.dcrnn_supervisor:Epoch [18/100] (7125) train_mae: 2.0289, val_mae: 2.9027, lr: 0.010000, 566.3s\n"
          ]
        },
        {
          "output_type": "stream",
          "name": "stdout",
          "text": [
            "2024-02-05 22:28:15,160 - INFO - epoch complete\n"
          ]
        },
        {
          "output_type": "stream",
          "name": "stderr",
          "text": [
            "INFO:model.pytorch.dcrnn_supervisor:epoch complete\n"
          ]
        },
        {
          "output_type": "stream",
          "name": "stdout",
          "text": [
            "2024-02-05 22:28:15,165 - INFO - evaluating now!\n"
          ]
        },
        {
          "output_type": "stream",
          "name": "stderr",
          "text": [
            "INFO:model.pytorch.dcrnn_supervisor:evaluating now!\n"
          ]
        },
        {
          "output_type": "stream",
          "name": "stdout",
          "text": [
            "2024-02-05 22:28:57,018 - INFO - Epoch [19/100] (7500) train_mae: 2.0264, val_mae: 2.9094, lr: 0.010000, 565.0s\n"
          ]
        },
        {
          "output_type": "stream",
          "name": "stderr",
          "text": [
            "INFO:model.pytorch.dcrnn_supervisor:Epoch [19/100] (7500) train_mae: 2.0264, val_mae: 2.9094, lr: 0.010000, 565.0s\n"
          ]
        },
        {
          "output_type": "stream",
          "name": "stdout",
          "text": [
            "2024-02-05 22:30:20,858 - INFO - Epoch [19/100] (7500) train_mae: 2.0264, test_mae: 3.0776,  lr: 0.010000, 565.0s\n"
          ]
        },
        {
          "output_type": "stream",
          "name": "stderr",
          "text": [
            "INFO:model.pytorch.dcrnn_supervisor:Epoch [19/100] (7500) train_mae: 2.0264, test_mae: 3.0776,  lr: 0.010000, 565.0s\n"
          ]
        },
        {
          "output_type": "stream",
          "name": "stdout",
          "text": [
            "2024-02-05 22:39:03,840 - INFO - epoch complete\n"
          ]
        },
        {
          "output_type": "stream",
          "name": "stderr",
          "text": [
            "INFO:model.pytorch.dcrnn_supervisor:epoch complete\n"
          ]
        },
        {
          "output_type": "stream",
          "name": "stdout",
          "text": [
            "2024-02-05 22:39:03,848 - INFO - evaluating now!\n"
          ]
        },
        {
          "output_type": "stream",
          "name": "stderr",
          "text": [
            "INFO:model.pytorch.dcrnn_supervisor:evaluating now!\n"
          ]
        },
        {
          "output_type": "stream",
          "name": "stdout",
          "text": [
            "2024-02-05 22:39:45,639 - INFO - Epoch [20/100] (7875) train_mae: 2.0231, val_mae: 2.9204, lr: 0.010000, 564.8s\n"
          ]
        },
        {
          "output_type": "stream",
          "name": "stderr",
          "text": [
            "INFO:model.pytorch.dcrnn_supervisor:Epoch [20/100] (7875) train_mae: 2.0231, val_mae: 2.9204, lr: 0.010000, 564.8s\n"
          ]
        },
        {
          "output_type": "stream",
          "name": "stdout",
          "text": [
            "2024-02-05 22:48:27,797 - INFO - epoch complete\n"
          ]
        },
        {
          "output_type": "stream",
          "name": "stderr",
          "text": [
            "INFO:model.pytorch.dcrnn_supervisor:epoch complete\n"
          ]
        },
        {
          "output_type": "stream",
          "name": "stdout",
          "text": [
            "2024-02-05 22:48:27,802 - INFO - evaluating now!\n"
          ]
        },
        {
          "output_type": "stream",
          "name": "stderr",
          "text": [
            "INFO:model.pytorch.dcrnn_supervisor:evaluating now!\n"
          ]
        },
        {
          "output_type": "stream",
          "name": "stdout",
          "text": [
            "2024-02-05 22:49:09,656 - INFO - Epoch [21/100] (8250) train_mae: 2.0219, val_mae: 2.9137, lr: 0.010000, 564.0s\n"
          ]
        },
        {
          "output_type": "stream",
          "name": "stderr",
          "text": [
            "INFO:model.pytorch.dcrnn_supervisor:Epoch [21/100] (8250) train_mae: 2.0219, val_mae: 2.9137, lr: 0.010000, 564.0s\n"
          ]
        },
        {
          "output_type": "stream",
          "name": "stdout",
          "text": [
            "2024-02-05 22:57:51,293 - INFO - epoch complete\n"
          ]
        },
        {
          "output_type": "stream",
          "name": "stderr",
          "text": [
            "INFO:model.pytorch.dcrnn_supervisor:epoch complete\n"
          ]
        },
        {
          "output_type": "stream",
          "name": "stdout",
          "text": [
            "2024-02-05 22:57:51,298 - INFO - evaluating now!\n"
          ]
        },
        {
          "output_type": "stream",
          "name": "stderr",
          "text": [
            "INFO:model.pytorch.dcrnn_supervisor:evaluating now!\n"
          ]
        },
        {
          "output_type": "stream",
          "name": "stdout",
          "text": [
            "2024-02-05 22:58:33,057 - INFO - Epoch [22/100] (8625) train_mae: 2.0179, val_mae: 2.9679, lr: 0.010000, 563.4s\n"
          ]
        },
        {
          "output_type": "stream",
          "name": "stderr",
          "text": [
            "INFO:model.pytorch.dcrnn_supervisor:Epoch [22/100] (8625) train_mae: 2.0179, val_mae: 2.9679, lr: 0.010000, 563.4s\n"
          ]
        },
        {
          "output_type": "stream",
          "name": "stdout",
          "text": [
            "2024-02-05 23:07:16,021 - INFO - epoch complete\n"
          ]
        },
        {
          "output_type": "stream",
          "name": "stderr",
          "text": [
            "INFO:model.pytorch.dcrnn_supervisor:epoch complete\n"
          ]
        },
        {
          "output_type": "stream",
          "name": "stdout",
          "text": [
            "2024-02-05 23:07:16,031 - INFO - evaluating now!\n"
          ]
        },
        {
          "output_type": "stream",
          "name": "stderr",
          "text": [
            "INFO:model.pytorch.dcrnn_supervisor:evaluating now!\n"
          ]
        },
        {
          "output_type": "stream",
          "name": "stdout",
          "text": [
            "2024-02-05 23:07:57,912 - INFO - Epoch [23/100] (9000) train_mae: 2.0247, val_mae: 2.9645, lr: 0.010000, 564.8s\n"
          ]
        },
        {
          "output_type": "stream",
          "name": "stderr",
          "text": [
            "INFO:model.pytorch.dcrnn_supervisor:Epoch [23/100] (9000) train_mae: 2.0247, val_mae: 2.9645, lr: 0.010000, 564.8s\n"
          ]
        },
        {
          "output_type": "stream",
          "name": "stdout",
          "text": [
            "2024-02-05 23:16:41,525 - INFO - epoch complete\n"
          ]
        },
        {
          "output_type": "stream",
          "name": "stderr",
          "text": [
            "INFO:model.pytorch.dcrnn_supervisor:epoch complete\n"
          ]
        },
        {
          "output_type": "stream",
          "name": "stdout",
          "text": [
            "2024-02-05 23:16:41,530 - INFO - evaluating now!\n"
          ]
        },
        {
          "output_type": "stream",
          "name": "stderr",
          "text": [
            "INFO:model.pytorch.dcrnn_supervisor:evaluating now!\n"
          ]
        },
        {
          "output_type": "stream",
          "name": "stdout",
          "text": [
            "2024-02-05 23:17:23,413 - INFO - Epoch [24/100] (9375) train_mae: 2.0200, val_mae: 2.8799, lr: 0.010000, 565.5s\n"
          ]
        },
        {
          "output_type": "stream",
          "name": "stderr",
          "text": [
            "INFO:model.pytorch.dcrnn_supervisor:Epoch [24/100] (9375) train_mae: 2.0200, val_mae: 2.8799, lr: 0.010000, 565.5s\n"
          ]
        },
        {
          "output_type": "stream",
          "name": "stdout",
          "text": [
            "2024-02-05 23:17:23,436 - INFO - Saved model at 24\n"
          ]
        },
        {
          "output_type": "stream",
          "name": "stderr",
          "text": [
            "INFO:model.pytorch.dcrnn_supervisor:Saved model at 24\n"
          ]
        },
        {
          "output_type": "stream",
          "name": "stdout",
          "text": [
            "2024-02-05 23:17:23,440 - INFO - Val loss decrease from 2.8995 to 2.8799, saving to models/epo24.tar\n"
          ]
        },
        {
          "output_type": "stream",
          "name": "stderr",
          "text": [
            "INFO:model.pytorch.dcrnn_supervisor:Val loss decrease from 2.8995 to 2.8799, saving to models/epo24.tar\n"
          ]
        },
        {
          "output_type": "stream",
          "name": "stdout",
          "text": [
            "2024-02-05 23:26:07,310 - INFO - epoch complete\n"
          ]
        },
        {
          "output_type": "stream",
          "name": "stderr",
          "text": [
            "INFO:model.pytorch.dcrnn_supervisor:epoch complete\n"
          ]
        },
        {
          "output_type": "stream",
          "name": "stdout",
          "text": [
            "2024-02-05 23:26:07,316 - INFO - evaluating now!\n"
          ]
        },
        {
          "output_type": "stream",
          "name": "stderr",
          "text": [
            "INFO:model.pytorch.dcrnn_supervisor:evaluating now!\n"
          ]
        },
        {
          "output_type": "stream",
          "name": "stdout",
          "text": [
            "2024-02-05 23:26:49,236 - INFO - Epoch [25/100] (9750) train_mae: 2.0196, val_mae: 2.9183, lr: 0.010000, 565.8s\n"
          ]
        },
        {
          "output_type": "stream",
          "name": "stderr",
          "text": [
            "INFO:model.pytorch.dcrnn_supervisor:Epoch [25/100] (9750) train_mae: 2.0196, val_mae: 2.9183, lr: 0.010000, 565.8s\n"
          ]
        }
      ],
      "source": [
        "config_filename=source_path+'/data/model/dcrnn_la.yaml'\n",
        "with open(config_filename) as f:\n",
        "  supervisor_config = yaml.load(f,Loader=yaml.SafeLoader)\n",
        "\n",
        "  graph_pkl_filename = supervisor_config['data'].get('graph_pkl_filename')\n",
        "  sensor_ids, sensor_id_to_ind, adj_mx = load_graph_data(graph_pkl_filename)\n",
        "\n",
        "  supervisor = DCRNNSupervisor(adj_mx=adj_mx, **supervisor_config)\n",
        "\n",
        "  supervisor.train()\n"
      ]
    },
    {
      "cell_type": "code",
      "source": [
        "# Create data directories\n",
        "!mkdir -p data/{METR-LA,PEMS-BAY}\n",
        "\n",
        "# METR-LA\n",
        "!python -m scripts.generate_training_data --output_dir=data/METR-LA --traffic_df_filename=data/metr-la.h5\n",
        "\n",
        "# PEMS-BAY\n",
        "!python -m scripts.generate_training_data --output_dir=data/PEMS-BAY --traffic_df_filename=data/pems-bay.h5\n",
        "\n",
        "!python -m scripts.gen_adj_mx  --sensor_ids_filename=data/sensor_graph/graph_sensor_ids.txt --normalized_k=0.1\\\n",
        "    --output_pkl_filename=data/sensor_graph/adj_mx.pkl"
      ],
      "metadata": {
        "id": "dvLjZEnINu6B"
      },
      "execution_count": null,
      "outputs": []
    }
  ]
}